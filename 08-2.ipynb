{
 "cells": [
  {
   "cell_type": "code",
   "execution_count": 17,
   "metadata": {},
   "outputs": [],
   "source": [
    "import numpy as np\n",
    "import torch\n",
    "from torch.utils import data\n",
    "from d2l import torch as d2l\n",
    "\n",
    "true_w = torch.tensor([2, -3.4])\n",
    "true_b = 4.2\n",
    "features, labels = d2l.synthetic_data(true_w, true_b, 1000)"
   ]
  },
  {
   "cell_type": "code",
   "execution_count": 18,
   "metadata": {},
   "outputs": [
    {
     "data": {
      "text/plain": [
       "[tensor([[-0.4919,  0.0578],\n",
       "         [ 1.1658,  0.8898],\n",
       "         [ 0.7835, -1.1982],\n",
       "         [-0.2297,  0.8767],\n",
       "         [-0.0499,  1.9528],\n",
       "         [-0.2559,  0.4991],\n",
       "         [-0.6673, -2.0153],\n",
       "         [-1.0123,  0.1060],\n",
       "         [ 0.5949, -0.6779],\n",
       "         [ 0.3853, -0.5347]]),\n",
       " tensor([[ 3.0052],\n",
       "         [ 3.4968],\n",
       "         [ 9.8504],\n",
       "         [ 0.7449],\n",
       "         [-2.5389],\n",
       "         [ 1.9955],\n",
       "         [ 9.7290],\n",
       "         [ 1.8039],\n",
       "         [ 7.6897],\n",
       "         [ 6.7938]])]"
      ]
     },
     "execution_count": 18,
     "metadata": {},
     "output_type": "execute_result"
    }
   ],
   "source": [
    "def load_array(data_arrays, batch_size, is_train=True):\n",
    "    \"\"\"构造一个PyTorch数据迭代器。\"\"\"\n",
    "    dataset = data.TensorDataset(*data_arrays)\n",
    "    return data.DataLoader(dataset, batch_size, shuffle=is_train)\n",
    "\n",
    "batch_size = 10\n",
    "data_iter = load_array((features, labels), batch_size)\n",
    "\n",
    "next(iter(data_iter))"
   ]
  },
  {
   "cell_type": "code",
   "execution_count": 19,
   "metadata": {},
   "outputs": [],
   "source": [
    "from torch import nn\n",
    "\n",
    "net = nn.Sequential(nn.Linear(2, 1))\n",
    "# nn.Sequential()是一个layer的容器"
   ]
  },
  {
   "cell_type": "code",
   "execution_count": 20,
   "metadata": {},
   "outputs": [
    {
     "data": {
      "text/plain": [
       "tensor([0.])"
      ]
     },
     "execution_count": 20,
     "metadata": {},
     "output_type": "execute_result"
    }
   ],
   "source": [
    "# 由于nn.Sequential()只有一层，所以可以通过net[0]来访问到这一层\n",
    "net[0].weight.data.normal_(0, 0.01) # 使用正态分布，均值为0，标准差为0.01\n",
    "net[0].bias.data.fill_(0)"
   ]
  },
  {
   "cell_type": "code",
   "execution_count": 21,
   "metadata": {},
   "outputs": [],
   "source": [
    "loss = nn.MSELoss()"
   ]
  },
  {
   "cell_type": "code",
   "execution_count": 22,
   "metadata": {},
   "outputs": [],
   "source": [
    "trainer = torch.optim.SGD(net.parameters(), lr=0.3)"
   ]
  },
  {
   "cell_type": "code",
   "execution_count": 23,
   "metadata": {},
   "outputs": [
    {
     "name": "stdout",
     "output_type": "stream",
     "text": [
      "epoch 1, loss 0.000113\n",
      "epoch 2, loss 0.000100\n",
      "epoch 3, loss 0.000117\n"
     ]
    }
   ],
   "source": [
    "num_epochs = 3\n",
    "for epoch in range(num_epochs): # 将整个数据集遍历3遍\n",
    "    for X, y in data_iter:\n",
    "        l = loss(net(X), y) # net()的参数w, b在之前设置过了，这里不需要再输入了\n",
    "        trainer.zero_grad() # 清零梯度\n",
    "        l.backward() # 计算梯度，这里默认会执行sum()\n",
    "        trainer.step() # 更新参数\n",
    "    l = loss(net(features), labels)\n",
    "    print(f'epoch {epoch + 1}, loss {l:f}')"
   ]
  },
  {
   "cell_type": "code",
   "execution_count": null,
   "metadata": {},
   "outputs": [],
   "source": []
  }
 ],
 "metadata": {
  "kernelspec": {
   "display_name": "d2l",
   "language": "python",
   "name": "python3"
  },
  "language_info": {
   "codemirror_mode": {
    "name": "ipython",
    "version": 3
   },
   "file_extension": ".py",
   "mimetype": "text/x-python",
   "name": "python",
   "nbconvert_exporter": "python",
   "pygments_lexer": "ipython3",
   "version": "3.8.18"
  }
 },
 "nbformat": 4,
 "nbformat_minor": 2
}
